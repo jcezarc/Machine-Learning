{
 "cells": [
  {
   "cell_type": "markdown",
   "metadata": {},
   "source": [
    "# Processamento de Linguagem Natural"
   ]
  },
  {
   "cell_type": "code",
   "execution_count": 1,
   "metadata": {},
   "outputs": [
    {
     "data": {
      "text/plain": [
       "'\\n    *** ATENÇÃO ***\\n\\n   Descomente as linhas acima se for usar NLTK pela primeira vez\\n'"
      ]
     },
     "execution_count": 1,
     "metadata": {},
     "output_type": "execute_result"
    }
   ],
   "source": [
    "# import nltk\n",
    "\n",
    "# nltk.download()  \n",
    "\"\"\"\n",
    "    *** ATENÇÃO ***\n",
    "\n",
    "   Descomente as linhas acima se for usar NLTK pela primeira vez\n",
    "\"\"\""
   ]
  },
  {
   "cell_type": "markdown",
   "metadata": {},
   "source": [
    "## Carregando os dados"
   ]
  },
  {
   "cell_type": "code",
   "execution_count": 1,
   "metadata": {},
   "outputs": [
    {
     "data": {
      "text/html": [
       "<div>\n",
       "<style scoped>\n",
       "    .dataframe tbody tr th:only-of-type {\n",
       "        vertical-align: middle;\n",
       "    }\n",
       "\n",
       "    .dataframe tbody tr th {\n",
       "        vertical-align: top;\n",
       "    }\n",
       "\n",
       "    .dataframe thead th {\n",
       "        text-align: right;\n",
       "    }\n",
       "</style>\n",
       "<table border=\"1\" class=\"dataframe\">\n",
       "  <thead>\n",
       "    <tr style=\"text-align: right;\">\n",
       "      <th></th>\n",
       "      <th>text</th>\n",
       "      <th>positive</th>\n",
       "    </tr>\n",
       "  </thead>\n",
       "  <tbody>\n",
       "    <tr>\n",
       "      <th>0</th>\n",
       "      <td>the rock is destined to be the 21st century's ...</td>\n",
       "      <td>1</td>\n",
       "    </tr>\n",
       "    <tr>\n",
       "      <th>1</th>\n",
       "      <td>the gorgeously elaborate continuation of \" the...</td>\n",
       "      <td>1</td>\n",
       "    </tr>\n",
       "    <tr>\n",
       "      <th>2</th>\n",
       "      <td>effective but too-tepid biopic</td>\n",
       "      <td>1</td>\n",
       "    </tr>\n",
       "    <tr>\n",
       "      <th>3</th>\n",
       "      <td>if you sometimes like to go to the movies to h...</td>\n",
       "      <td>1</td>\n",
       "    </tr>\n",
       "    <tr>\n",
       "      <th>4</th>\n",
       "      <td>emerges as something rare , an issue movie tha...</td>\n",
       "      <td>1</td>\n",
       "    </tr>\n",
       "  </tbody>\n",
       "</table>\n",
       "</div>"
      ],
      "text/plain": [
       "                                                text  positive\n",
       "0  the rock is destined to be the 21st century's ...         1\n",
       "1  the gorgeously elaborate continuation of \" the...         1\n",
       "2                     effective but too-tepid biopic         1\n",
       "3  if you sometimes like to go to the movies to h...         1\n",
       "4  emerges as something rare , an issue movie tha...         1"
      ]
     },
     "execution_count": 1,
     "metadata": {},
     "output_type": "execute_result"
    }
   ],
   "source": [
    "import pandas as pd\n",
    "\n",
    "df_pos = pd.read_csv(\"reviews_curtos/positive.txt\", delimiter=\"\\n\", encoding=\"latin\", header=None, names=['text'])\n",
    "df_pos['positive'] = 1\n",
    "df_pos.head()"
   ]
  },
  {
   "cell_type": "code",
   "execution_count": 2,
   "metadata": {},
   "outputs": [
    {
     "data": {
      "text/html": [
       "<div>\n",
       "<style scoped>\n",
       "    .dataframe tbody tr th:only-of-type {\n",
       "        vertical-align: middle;\n",
       "    }\n",
       "\n",
       "    .dataframe tbody tr th {\n",
       "        vertical-align: top;\n",
       "    }\n",
       "\n",
       "    .dataframe thead th {\n",
       "        text-align: right;\n",
       "    }\n",
       "</style>\n",
       "<table border=\"1\" class=\"dataframe\">\n",
       "  <thead>\n",
       "    <tr style=\"text-align: right;\">\n",
       "      <th></th>\n",
       "      <th>text</th>\n",
       "      <th>positive</th>\n",
       "    </tr>\n",
       "  </thead>\n",
       "  <tbody>\n",
       "    <tr>\n",
       "      <th>0</th>\n",
       "      <td>simplistic , silly and tedious .</td>\n",
       "      <td>0</td>\n",
       "    </tr>\n",
       "    <tr>\n",
       "      <th>1</th>\n",
       "      <td>it's so laddish and juvenile , only teenage bo...</td>\n",
       "      <td>0</td>\n",
       "    </tr>\n",
       "    <tr>\n",
       "      <th>2</th>\n",
       "      <td>exploitative and largely devoid of the depth o...</td>\n",
       "      <td>0</td>\n",
       "    </tr>\n",
       "    <tr>\n",
       "      <th>3</th>\n",
       "      <td>[garbus] discards the potential for pathologic...</td>\n",
       "      <td>0</td>\n",
       "    </tr>\n",
       "    <tr>\n",
       "      <th>4</th>\n",
       "      <td>a visually flashy but narratively opaque and e...</td>\n",
       "      <td>0</td>\n",
       "    </tr>\n",
       "  </tbody>\n",
       "</table>\n",
       "</div>"
      ],
      "text/plain": [
       "                                                text  positive\n",
       "0                  simplistic , silly and tedious .          0\n",
       "1  it's so laddish and juvenile , only teenage bo...         0\n",
       "2  exploitative and largely devoid of the depth o...         0\n",
       "3  [garbus] discards the potential for pathologic...         0\n",
       "4  a visually flashy but narratively opaque and e...         0"
      ]
     },
     "execution_count": 2,
     "metadata": {},
     "output_type": "execute_result"
    }
   ],
   "source": [
    "df_neg = pd.read_csv(\"reviews_curtos/negative.txt\", delimiter=\"\\n\", encoding=\"latin\", header=None, names=['text'])\n",
    "df_neg['positive'] = 0\n",
    "df_neg.head()"
   ]
  },
  {
   "cell_type": "markdown",
   "metadata": {},
   "source": [
    "## Concatenando os dois dataframes"
   ]
  },
  {
   "cell_type": "code",
   "execution_count": 3,
   "metadata": {},
   "outputs": [
    {
     "data": {
      "text/html": [
       "<div>\n",
       "<style scoped>\n",
       "    .dataframe tbody tr th:only-of-type {\n",
       "        vertical-align: middle;\n",
       "    }\n",
       "\n",
       "    .dataframe tbody tr th {\n",
       "        vertical-align: top;\n",
       "    }\n",
       "\n",
       "    .dataframe thead th {\n",
       "        text-align: right;\n",
       "    }\n",
       "</style>\n",
       "<table border=\"1\" class=\"dataframe\">\n",
       "  <thead>\n",
       "    <tr style=\"text-align: right;\">\n",
       "      <th></th>\n",
       "      <th>text</th>\n",
       "      <th>positive</th>\n",
       "    </tr>\n",
       "  </thead>\n",
       "  <tbody>\n",
       "    <tr>\n",
       "      <th>914</th>\n",
       "      <td>from spiritual rebirth to bruising defeat , vi...</td>\n",
       "      <td>1</td>\n",
       "    </tr>\n",
       "    <tr>\n",
       "      <th>3438</th>\n",
       "      <td>seeks to transcend its genre with a curiously ...</td>\n",
       "      <td>1</td>\n",
       "    </tr>\n",
       "    <tr>\n",
       "      <th>927</th>\n",
       "      <td>mindless and boring martial arts and gunplay w...</td>\n",
       "      <td>0</td>\n",
       "    </tr>\n",
       "    <tr>\n",
       "      <th>3328</th>\n",
       "      <td>control-alt-delete simone as quickly as possible</td>\n",
       "      <td>0</td>\n",
       "    </tr>\n",
       "    <tr>\n",
       "      <th>2882</th>\n",
       "      <td>the movie is as far as you can get from racy ,...</td>\n",
       "      <td>0</td>\n",
       "    </tr>\n",
       "  </tbody>\n",
       "</table>\n",
       "</div>"
      ],
      "text/plain": [
       "                                                   text  positive\n",
       "914   from spiritual rebirth to bruising defeat , vi...         1\n",
       "3438  seeks to transcend its genre with a curiously ...         1\n",
       "927   mindless and boring martial arts and gunplay w...         0\n",
       "3328   control-alt-delete simone as quickly as possible         0\n",
       "2882  the movie is as far as you can get from racy ,...         0"
      ]
     },
     "execution_count": 3,
     "metadata": {},
     "output_type": "execute_result"
    }
   ],
   "source": [
    "from sklearn.utils import shuffle\n",
    "df = shuffle(pd.concat([df_pos, df_neg]))\n",
    "df.head()"
   ]
  },
  {
   "cell_type": "code",
   "execution_count": 4,
   "metadata": {},
   "outputs": [
    {
     "data": {
      "text/plain": [
       "1    5331\n",
       "0    5331\n",
       "Name: positive, dtype: int64"
      ]
     },
     "execution_count": 4,
     "metadata": {},
     "output_type": "execute_result"
    }
   ],
   "source": [
    "df['positive'].value_counts()"
   ]
  },
  {
   "cell_type": "markdown",
   "metadata": {},
   "source": [
    "## Funções auxiliares (tokenização, stopwords, steaming, classes de palavras...)"
   ]
  },
  {
   "cell_type": "code",
   "execution_count": 5,
   "metadata": {},
   "outputs": [],
   "source": [
    "from nltk.stem import PorterStemmer\n",
    "from nltk.tokenize import word_tokenize\n",
    "from nltk import ne_chunk\n",
    "from nltk.corpus import stopwords\n",
    "from string import punctuation\n",
    "# import spacy\n",
    "from nltk.tag import pos_tag\n",
    "import re\n",
    "\n",
    "def tokenizacao(texto):\n",
    "    #Tokenização\n",
    "    tokenizado = word_tokenize(texto.lower())\n",
    "    return tokenizado\n",
    "\n",
    "def remove_stopwords(texto_tokenizado):\n",
    "    #Remoção das stopwords e pontuações\n",
    "    stopwords_ = set(stopwords.words('english') + list(punctuation))\n",
    "    palavras_sem_stopwords = [palavra for palavra in texto_tokenizado \n",
    "                              if palavra not in stopwords_]\n",
    "    return palavras_sem_stopwords\n",
    "        \n",
    "def faz_steaming(texto_tokenizado):\n",
    "    stemmer = PorterStemmer()\n",
    "    palavras_steaming = [stemmer.stem(palavra) \n",
    "                         for palavra in texto_tokenizado]\n",
    "    return palavras_steaming\n",
    "\n",
    "def chunk_chik(texto_tokenizado, chunkGram):\n",
    "    #Chunk e Chiking\n",
    "    palavras_post = pos_tag(texto_tokenizado)\n",
    "    palavras_chunk = [palavra for palavra, classe in palavras_post \n",
    "                      if not re.match(chunkGram, palavra)]\n",
    "    return palavras_chunk\n",
    "    \n",
    "def pipeline_npl(texto):\n",
    "    tokenizado = tokenizacao(texto)\n",
    "    palavras_sem_stopwords = remove_stopwords(tokenizado)\n",
    "    palavras_post = faz_steaming(palavras_sem_stopwords)\n",
    "    \n",
    "    palavras_chunk = chunk_chik(\n",
    "        palavras_post,\n",
    "        r\"\"\"Chunk: {<VB.?>*<VB.?>*<NNP>+<NN>?}\"\"\"\n",
    "    )\n",
    "\n",
    "    return \" \".join(palavras_chunk)"
   ]
  },
  {
   "cell_type": "markdown",
   "metadata": {},
   "source": [
    "## Testando primeiro o *pipeline* em apenas uma frase"
   ]
  },
  {
   "cell_type": "code",
   "execution_count": 6,
   "metadata": {},
   "outputs": [
    {
     "data": {
      "text/plain": [
       "'batman get gotham citi'"
      ]
     },
     "execution_count": 6,
     "metadata": {},
     "output_type": "execute_result"
    }
   ],
   "source": [
    "pipeline_npl('I am Batman. Get out of Gotham City!!')"
   ]
  },
  {
   "cell_type": "markdown",
   "metadata": {},
   "source": [
    "## Aplicando o processamento em todos os dados da coluna *text*\n",
    "### `-- Demora um pouco --`"
   ]
  },
  {
   "cell_type": "code",
   "execution_count": 7,
   "metadata": {},
   "outputs": [
    {
     "data": {
      "text/html": [
       "<div>\n",
       "<style scoped>\n",
       "    .dataframe tbody tr th:only-of-type {\n",
       "        vertical-align: middle;\n",
       "    }\n",
       "\n",
       "    .dataframe tbody tr th {\n",
       "        vertical-align: top;\n",
       "    }\n",
       "\n",
       "    .dataframe thead th {\n",
       "        text-align: right;\n",
       "    }\n",
       "</style>\n",
       "<table border=\"1\" class=\"dataframe\">\n",
       "  <thead>\n",
       "    <tr style=\"text-align: right;\">\n",
       "      <th></th>\n",
       "      <th>text</th>\n",
       "      <th>positive</th>\n",
       "    </tr>\n",
       "  </thead>\n",
       "  <tbody>\n",
       "    <tr>\n",
       "      <th>914</th>\n",
       "      <td>spiritu rebirth bruis defeat vincent 's odysse...</td>\n",
       "      <td>1</td>\n",
       "    </tr>\n",
       "    <tr>\n",
       "      <th>3438</th>\n",
       "      <td>seek transcend genr curious styliz quasi-shake...</td>\n",
       "      <td>1</td>\n",
       "    </tr>\n",
       "    <tr>\n",
       "      <th>927</th>\n",
       "      <td>mindless bore martial art gunplay littl excit ...</td>\n",
       "      <td>0</td>\n",
       "    </tr>\n",
       "    <tr>\n",
       "      <th>3328</th>\n",
       "      <td>control-alt-delet simon quickli possibl</td>\n",
       "      <td>0</td>\n",
       "    </tr>\n",
       "    <tr>\n",
       "      <th>2882</th>\n",
       "      <td>movi far get raci point almost stop blood flow...</td>\n",
       "      <td>0</td>\n",
       "    </tr>\n",
       "  </tbody>\n",
       "</table>\n",
       "</div>"
      ],
      "text/plain": [
       "                                                   text  positive\n",
       "914   spiritu rebirth bruis defeat vincent 's odysse...         1\n",
       "3438  seek transcend genr curious styliz quasi-shake...         1\n",
       "927   mindless bore martial art gunplay littl excit ...         0\n",
       "3328            control-alt-delet simon quickli possibl         0\n",
       "2882  movi far get raci point almost stop blood flow...         0"
      ]
     },
     "execution_count": 7,
     "metadata": {},
     "output_type": "execute_result"
    }
   ],
   "source": [
    "df['text'] = df['text'].apply(pipeline_npl)\n",
    "df.head()"
   ]
  },
  {
   "cell_type": "markdown",
   "metadata": {},
   "source": [
    "# Criando os modelos de classificação"
   ]
  },
  {
   "cell_type": "code",
   "execution_count": 9,
   "metadata": {},
   "outputs": [],
   "source": [
    "from sklearn import metrics\n",
    "\n",
    "#Teste de precisão\n",
    "def avalia_modelo(modelo):\n",
    "    modelo.fit(x_treino_dtm, y_treino)\n",
    "    y_predito = modelo.predict(x_teste_dtm)\n",
    "    precisao = metrics.accuracy_score(y_teste, y_predito)*100\n",
    "    print(\"Precisão do modelo {}: {:.2f}%\".format(\n",
    "        modelo.__class__.__name__,\n",
    "        precisao\n",
    "    ))\n",
    "    return modelo"
   ]
  },
  {
   "cell_type": "code",
   "execution_count": 10,
   "metadata": {},
   "outputs": [],
   "source": [
    "from sklearn.model_selection import train_test_split\n",
    "#Separação das entradas e saidas\n",
    "x = df[\"text\"]\n",
    "y = df[\"positive\"].values\n",
    "x_treino, x_teste, y_treino, y_teste = train_test_split(x, y, \n",
    "                                                        test_size=0.4,\n",
    "                                                        random_state=15)"
   ]
  },
  {
   "cell_type": "code",
   "execution_count": 11,
   "metadata": {},
   "outputs": [],
   "source": [
    "from sklearn.feature_extraction.text import CountVectorizer\n",
    "\n",
    "#Método de Vetorização\n",
    "vetor = CountVectorizer()\n",
    "vetor.fit(x_treino)\n",
    "\n",
    "x_treino_dtm = vetor.transform(x_treino.values)\n",
    "x_teste_dtm = vetor.transform(x_teste.values)"
   ]
  },
  {
   "cell_type": "code",
   "execution_count": 12,
   "metadata": {},
   "outputs": [],
   "source": [
    "from sklearn.naive_bayes import MultinomialNB"
   ]
  },
  {
   "cell_type": "markdown",
   "metadata": {},
   "source": [
    "## Classificando a emoção (positiva / negativa):"
   ]
  },
  {
   "cell_type": "code",
   "execution_count": 13,
   "metadata": {},
   "outputs": [
    {
     "ename": "NameError",
     "evalue": "name 'processamento_npl' is not defined",
     "output_type": "error",
     "traceback": [
      "\u001b[1;31m---------------------------------------------------------------------------\u001b[0m",
      "\u001b[1;31mNameError\u001b[0m                                 Traceback (most recent call last)",
      "\u001b[1;32m<ipython-input-13-41aa180e2968>\u001b[0m in \u001b[0;36m<module>\u001b[1;34m\u001b[0m\n\u001b[1;32m----> 1\u001b[1;33m frase_proc = processamento_npl(\n\u001b[0m\u001b[0;32m      2\u001b[0m     '''\n\u001b[0;32m      3\u001b[0m     \u001b[0mSeems\u001b[0m \u001b[1;32mnot\u001b[0m \u001b[0mgood\u001b[0m\u001b[1;33m.\u001b[0m\u001b[1;33m\u001b[0m\u001b[0m\n\u001b[0;32m      4\u001b[0m     '''\n\u001b[0;32m      5\u001b[0m )\n",
      "\u001b[1;31mNameError\u001b[0m: name 'processamento_npl' is not defined"
     ]
    }
   ],
   "source": [
    "frase_proc = processamento_npl(\n",
    "    '''\n",
    "    Seems not good.\n",
    "    '''\n",
    ")\n",
    "x_novo = vetor.transform([frase_proc])\n",
    "nb_clf = avalia_modelo(MultinomialNB())\n",
    "pred = nb_clf.predict(x_novo)\n",
    "print('-'*20, 'PREVISÃO', '-'*20)\n",
    "tipos = {\n",
    "    0: 'negative',\n",
    "    1: 'positive'\n",
    "}\n",
    "tipos[pred[0]]\n"
   ]
  }
 ],
 "metadata": {
  "kernelspec": {
   "display_name": "Python 3",
   "language": "python",
   "name": "python3"
  },
  "language_info": {
   "codemirror_mode": {
    "name": "ipython",
    "version": 3
   },
   "file_extension": ".py",
   "mimetype": "text/x-python",
   "name": "python",
   "nbconvert_exporter": "python",
   "pygments_lexer": "ipython3",
   "version": "3.7.0"
  }
 },
 "nbformat": 4,
 "nbformat_minor": 2
}
